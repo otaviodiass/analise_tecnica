{
 "cells": [
  {
   "cell_type": "code",
   "execution_count": 2,
   "metadata": {},
   "outputs": [],
   "source": [
    "from binance import Client\n",
    "from secret import API_KEY, API_SECRET\n",
    "import pandas as pd\n",
    "import datetime\n",
    "import os"
   ]
  },
  {
   "cell_type": "code",
   "execution_count": 3,
   "metadata": {},
   "outputs": [],
   "source": [
    "data_passada = datetime.datetime.now() - datetime.timedelta(days=366)\n",
    "\n",
    "data_passada_formatada = data_passada.strftime(\"%d %b, %Y\")\n",
    "\n",
    "client = Client(api_key=API_KEY, api_secret=API_SECRET)\n",
    "\n",
    "historico_bitcoin_uma_hora = client.get_historical_klines(\n",
    "    \"BTCUSDT\", Client.KLINE_INTERVAL_1HOUR, data_passada_formatada\n",
    ")\n",
    "\n",
    "historico_bitcoin_diario = client.get_historical_klines(\n",
    "    \"BTCUSDT\", Client.KLINE_INTERVAL_1DAY, data_passada_formatada\n",
    ")\n",
    "\n",
    "historico_bitcoin_semanal = client.get_historical_klines(\n",
    "    \"BTCUSDT\", Client.KLINE_INTERVAL_1WEEK, data_passada_formatada\n",
    ")\n",
    "\n",
    "historico_bitcoin_mensal = client.get_historical_klines(\n",
    "    \"BTCUSDT\", Client.KLINE_INTERVAL_1MONTH, data_passada_formatada\n",
    ")"
   ]
  },
  {
   "cell_type": "code",
   "execution_count": 4,
   "metadata": {},
   "outputs": [],
   "source": [
    "df_historico_uma_hora = pd.DataFrame(historico_bitcoin_uma_hora)\n",
    "\n",
    "df_historico_uma_hora = df_historico_uma_hora.drop([8, 9, 10, 11], axis=1)\n",
    "\n",
    "df_historico_uma_hora.columns = ['data', 'abertura', 'maximo', 'minimo', 'fechamento', 'volume', 'data fechamento', 'volume do ativo']\n",
    "\n",
    "df_historico_uma_hora.to_csv(os.path.join('historicos', 'historico_bitcoin_uma_hora.csv'), index=False)"
   ]
  },
  {
   "cell_type": "code",
   "execution_count": 5,
   "metadata": {},
   "outputs": [],
   "source": [
    "df_historico_diario = pd.DataFrame(historico_bitcoin_diario)\n",
    "\n",
    "df_historico_diario = df_historico_diario.drop([8, 9, 10, 11], axis=1)\n",
    "\n",
    "df_historico_diario.columns = ['data', 'abertura', 'maximo', 'minimo', 'fechamento', 'volume', 'data fechamento', 'volume do ativo']\n",
    "\n",
    "df_historico_diario.to_csv(os.path.join('historicos', 'historico_bitcoin_diario.csv'), index=False)"
   ]
  },
  {
   "cell_type": "code",
   "execution_count": 6,
   "metadata": {},
   "outputs": [],
   "source": [
    "df_historico_semanal = pd.DataFrame(historico_bitcoin_semanal)\n",
    "\n",
    "df_historico_semanal = df_historico_semanal.drop([8, 9, 10, 11], axis=1)\n",
    "\n",
    "df_historico_semanal.columns = ['data', 'abertura', 'maximo', 'minimo', 'fechamento', 'volume', 'data fechamento', 'volume do ativo']\n",
    "\n",
    "df_historico_semanal.to_csv(os.path.join('historicos', 'historico_bitcoin_semanal.csv'), index=False)"
   ]
  },
  {
   "cell_type": "code",
   "execution_count": 7,
   "metadata": {},
   "outputs": [],
   "source": [
    "df_historico_mensal = pd.DataFrame(historico_bitcoin_mensal)\n",
    "\n",
    "df_historico_mensal = df_historico_mensal.drop([8, 9, 10, 11], axis=1)\n",
    "\n",
    "df_historico_mensal.columns = ['data', 'abertura', 'maximo', 'minimo', 'fechamento', 'volume', 'data fechamento', 'volume do ativo']\n",
    "\n",
    "df_historico_mensal.to_csv(os.path.join('historicos', 'historico_bitcoin_mensal.csv'), index=False)"
   ]
  }
 ],
 "metadata": {
  "kernelspec": {
   "display_name": "env",
   "language": "python",
   "name": "python3"
  },
  "language_info": {
   "codemirror_mode": {
    "name": "ipython",
    "version": 3
   },
   "file_extension": ".py",
   "mimetype": "text/x-python",
   "name": "python",
   "nbconvert_exporter": "python",
   "pygments_lexer": "ipython3",
   "version": "3.11.2"
  }
 },
 "nbformat": 4,
 "nbformat_minor": 2
}
